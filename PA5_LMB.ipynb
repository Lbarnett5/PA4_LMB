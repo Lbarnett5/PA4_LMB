{
 "cells": [
  {
   "cell_type": "markdown",
   "id": "2af05bcd",
   "metadata": {},
   "source": [
    "## Python Assignment 5\n",
    "### Lucille Barnett\n",
    "### Python 3\n",
    "### 2022FA CS-150-01"
   ]
  },
  {
   "cell_type": "markdown",
   "id": "ec998e3c",
   "metadata": {},
   "source": [
    "##  Language Translator - write a program that implements a translation dictionary using a Python dictionary data structure that maps 20 English words to 20 words in another language (e.g. Spanish, German, Farsi, Arabic, Japanese, etc.). \n",
    "\n",
    "## The keys in your dictionary should be English (all lower case) and your values should be in your target language (also all lower case). Your program should ask for words in English to translate to your target language until the user enters the number zero (0)."
   ]
  },
  {
   "cell_type": "code",
   "execution_count": 1,
   "id": "df98ab7b",
   "metadata": {},
   "outputs": [
    {
     "name": "stdout",
     "output_type": "stream",
     "text": [
      "20\n"
     ]
    }
   ],
   "source": [
    "translation = {\n",
    "    \"dog\":\"perro\",\n",
    "    \"cat\":'gato',\n",
    "    \"mouse\":'raton',\n",
    "    \"hamburger\":'hamburguesa',\n",
    "    \"bread\":'pan',\n",
    "    'potato':'papa',\n",
    "    'breakfast':'desayuno',\n",
    "    'lunch':'almuerzo',\n",
    "    'food':'comida',\n",
    "    'dinner':'cena',\n",
    "    'beans':'frijoles',\n",
    "    'rice':'arroz',\n",
    "    'cow':'vaca',\n",
    "    'pig':'cerda',\n",
    "    'sheep':'oveja',\n",
    "    'chair':'silla',\n",
    "    'bed':'cama',\n",
    "    'wall':'pared',\n",
    "    'floor':'piso',\n",
    "    'ceiling':'techo'    \n",
    "}\n",
    "print(len(translation))"
   ]
  },
  {
   "cell_type": "code",
   "execution_count": 2,
   "id": "930baef2",
   "metadata": {},
   "outputs": [
    {
     "name": "stdout",
     "output_type": "stream",
     "text": [
      "Enter a word to translate from English to Spanish (enter O to stop): couch\n",
      "The Spanish word for couch is not in this dictionary\n",
      "Enter a word to translate from English to Spanish (enter O to stop): chair\n",
      "The Spanish word for chair is silla\n",
      "Enter a word to translate from English to Spanish (enter O to stop): dog\n",
      "The Spanish word for dog is perro\n",
      "Enter a word to translate from English to Spanish (enter O to stop): cat\n",
      "The Spanish word for cat is gato\n",
      "Enter a word to translate from English to Spanish (enter O to stop): O\n"
     ]
    }
   ],
   "source": [
    "active=True\n",
    "while active:\n",
    "    for key in translation.items():\n",
    "        key = input(\"Enter a word to translate from English to Spanish (enter O to stop): \")\n",
    "        if key==\"O\":\n",
    "            active=False\n",
    "            break\n",
    "        elif translation.get(key)!= None:\n",
    "            print(\"The Spanish word for\", key, 'is', translation[key])\n",
    "            continue\n",
    "        elif translation.get(key)== None:\n",
    "            print(\"The Spanish word for\", key, \"is not in this dictionary\")\n",
    "            continue"
   ]
  },
  {
   "cell_type": "markdown",
   "id": "3da71ea9",
   "metadata": {},
   "source": [
    "### Temperature converter- create a weather dictionary that will contain temperature data at month of September of Louisville, Kentucky. The key will be the say of the month and the value will be the temperature in Fahrenheit. Access each temperature values which is in Fahrenheit from the dictionary and convert it to Celsius and return to the original dictionary.\n",
    " "
   ]
  },
  {
   "cell_type": "code",
   "execution_count": 15,
   "id": "7af2943a",
   "metadata": {},
   "outputs": [
    {
     "name": "stdout",
     "output_type": "stream",
     "text": [
      "The tempurature in Celsius on September 1 is 30.0\n",
      "The tempurature in Celsius on September 2 is 30\n",
      "The tempurature in Celsius on September 3 is 29.0\n",
      "The tempurature in Celsius on September 4 is 29.0\n",
      "The tempurature in Celsius on September 5 is 29.0\n",
      "The tempurature in Celsius on September 6 is 29.0\n",
      "The tempurature in Celsius on September 7 is 29.0\n",
      "The tempurature in Celsius on September 8 is 29.0\n",
      "The tempurature in Celsius on September 9 is 29.0\n",
      "The tempurature in Celsius on September 10 is 28\n",
      "The tempurature in Celsius on September 11 is 28.0\n",
      "The tempurature in Celsius on September 12 is 28.0\n",
      "The tempurature in Celsius on September 13 is 28.0\n",
      "The tempurature in Celsius on September 14 is 28.0\n",
      "The tempurature in Celsius on September 15 is 27\n",
      "The tempurature in Celsius on September 16 is 27.0\n",
      "The tempurature in Celsius on September 17 is 27.0\n",
      "The tempurature in Celsius on September 18 is 27\n",
      "The tempurature in Celsius on September 19 is 27.0\n",
      "The tempurature in Celsius on September 20 is 26.0\n",
      "The tempurature in Celsius on September 21 is 26.0\n",
      "The tempurature in Celsius on September 22 is 26.0\n",
      "The tempurature in Celsius on September 23 is 26.0\n",
      "The tempurature in Celsius on September 24 is 26.0\n",
      "The tempurature in Celsius on September 25 is 26.0\n",
      "The tempurature in Celsius on September 26 is 25.0\n",
      "The tempurature in Celsius on September 27 is 25\n",
      "The tempurature in Celsius on September 28 is 25.0\n",
      "The tempurature in Celsius on September 29 is 25.0\n",
      "The tempurature in Celsius on September 30 is 24.0\n"
     ]
    }
   ],
   "source": [
    "temp_F={\n",
    "    1:86.2,\n",
    "    2:86,\n",
    "    3:85.7,\n",
    "    4:85.5,\n",
    "    5:85.3,\n",
    "    6:85.1,\n",
    "    7:84.9,\n",
    "    8:84.6,\n",
    "    9:84.3,\n",
    "    10:84,\n",
    "    11:83.6,\n",
    "    12:83.2,\n",
    "    13:82.8,\n",
    "    14:82.5,\n",
    "    15:82,\n",
    "    16:81.7,\n",
    "    17:81.4,\n",
    "    18:81,\n",
    "    19:80.7,\n",
    "    20:80.4,\n",
    "    21:80.1,\n",
    "    22:79.7,\n",
    "    23:79.4,\n",
    "    24:79.1,\n",
    "    25:78.8,\n",
    "    26:78.4,\n",
    "    27:78,\n",
    "    28:77.6,\n",
    "    29:77.2,\n",
    "    30:76.8\n",
    "}\n",
    "temp_C= {}\n",
    "for data, value in temp_F.items():\n",
    "    tempC = ((value-32)*5)//9\n",
    "    if data not in temp_C.keys():\n",
    "        temp_C[data]=tempC\n",
    "               \n",
    "for date, temp in temp_C.items():\n",
    "    print(\"The tempurature in Celsius on September\",date, 'is', temp)"
   ]
  },
  {
   "cell_type": "markdown",
   "id": "e1401a3b",
   "metadata": {},
   "source": [
    "### Write a Python script to print a dictionary where the keys are numbers between 1 and 15 (both included) and the values are square of keys."
   ]
  },
  {
   "cell_type": "code",
   "execution_count": 26,
   "id": "aca39814",
   "metadata": {},
   "outputs": [
    {
     "name": "stdout",
     "output_type": "stream",
     "text": [
      "{1: 1, 2: 4, 3: 9, 4: 16, 5: 25, 6: 36, 7: 49, 8: 64, 9: 81, 10: 100, 11: 121, 12: 144, 13: 169, 14: 196, 15: 225}\n"
     ]
    }
   ],
   "source": [
    "dict1 = {}\n",
    "for key in range(1,16):\n",
    "    if key not in dict1.keys():\n",
    "        dict1[key]=int(key**2)\n",
    "print(dict1)"
   ]
  },
  {
   "cell_type": "code",
   "execution_count": null,
   "id": "2a1e0e31",
   "metadata": {},
   "outputs": [],
   "source": []
  }
 ],
 "metadata": {
  "kernelspec": {
   "display_name": "Python 3 (ipykernel)",
   "language": "python",
   "name": "python3"
  },
  "language_info": {
   "codemirror_mode": {
    "name": "ipython",
    "version": 3
   },
   "file_extension": ".py",
   "mimetype": "text/x-python",
   "name": "python",
   "nbconvert_exporter": "python",
   "pygments_lexer": "ipython3",
   "version": "3.9.12"
  }
 },
 "nbformat": 4,
 "nbformat_minor": 5
}
